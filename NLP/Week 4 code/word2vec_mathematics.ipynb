{
 "cells": [
  {
   "cell_type": "code",
   "execution_count": 15,
   "metadata": {},
   "outputs": [],
   "source": [
    "import re\n",
    "import numpy as np\n",
    "import matplotlib.pyplot as plt"
   ]
  },
  {
   "cell_type": "code",
   "execution_count": 3,
   "metadata": {},
   "outputs": [],
   "source": [
    "def tokenize(text):\n",
    "\n",
    "  pattern = re.compile(r'[A-Za-z]+[\\w^\\']*|[\\w^\\']*[A-Za-z]+[\\w^\\']*')\n",
    "\n",
    "  return pattern.findall(text.lower())"
   ]
  },
  {
   "cell_type": "code",
   "execution_count": 4,
   "metadata": {},
   "outputs": [],
   "source": [
    "# build dictionary\n",
    "def mapping(text_array):\n",
    "\n",
    "  idx_to_word = {}\n",
    "  word_to_idx = {}\n",
    "\n",
    "  i=0; j=0\n",
    "  for idx, word in enumerate(text_array):\n",
    "    if word not in idx_to_word.values():\n",
    "      idx_to_word[i] = word\n",
    "      i+=1\n",
    "      \n",
    "    \n",
    "    if word not in word_to_idx.keys():\n",
    "      word_to_idx[word] = j\n",
    "      j+=1\n",
    "      \n",
    "\n",
    "  return idx_to_word, word_to_idx"
   ]
  },
  {
   "cell_type": "code",
   "execution_count": 5,
   "metadata": {},
   "outputs": [],
   "source": [
    "def one_hot_encoding(text_array, word_to_idx, window_size):\n",
    "\n",
    "  matrix = []\n",
    "\n",
    "  for idx, word in enumerate(text_array):\n",
    "    \n",
    "    center_vec = [0 for w in word_to_idx]\n",
    "    center_vec[word_to_idx[word]] = 1\n",
    "\n",
    "\n",
    "    context_vec = []\n",
    "    for i in range(-window_size, window_size+1):\n",
    "      \n",
    "      if i == 0 or idx+i < 0 or idx+i >= len(text_array) or word == text_array[idx+i]:\n",
    "        continue\n",
    "      \n",
    "      temp = [0 for w in word_to_idx]\n",
    "      temp[word_to_idx[text_array[idx+i]]] = 1 \n",
    "\n",
    "      context_vec.append(temp)\n",
    "      \n",
    "    matrix.append([center_vec, context_vec])\n",
    "    \n",
    "\n",
    "  return matrix"
   ]
  },
  {
   "cell_type": "code",
   "execution_count": 6,
   "metadata": {},
   "outputs": [],
   "source": [
    "def softmax(u):\n",
    "  return [np.exp(u_j) / np.sum(np.exp(u)) for u_j in u]"
   ]
  },
  {
   "cell_type": "code",
   "execution_count": 7,
   "metadata": {},
   "outputs": [],
   "source": [
    "def forward_pass(wt, w1, w2):\n",
    "\n",
    "  wt = np.array(wt)\n",
    "\n",
    "  h = np.dot(wt.T, w1)\n",
    "\n",
    "  u = np.dot(h, w2)\n",
    "  \n",
    "  return softmax(u), h, u"
   ]
  },
  {
   "cell_type": "code",
   "execution_count": 8,
   "metadata": {},
   "outputs": [],
   "source": [
    "def loss(w_c, u):\n",
    "  return -np.sum([u[word.index(1)] for word in w_c]) + len(w_c) * np.log(np.sum(np.exp(u)))"
   ]
  },
  {
   "cell_type": "code",
   "execution_count": 9,
   "metadata": {},
   "outputs": [],
   "source": [
    "def error(out, w_c):\n",
    "  out = np.array(out) \n",
    "  w_c = np.array(w_c)\n",
    "\n",
    "  return np.sum([np.subtract(out, w) for w in w_c], axis=0)"
   ]
  },
  {
   "cell_type": "code",
   "execution_count": 10,
   "metadata": {},
   "outputs": [],
   "source": [
    "def backprop(out, word, w1, w2, h):\n",
    "  err = error(out, word[1]).T\n",
    "\n",
    "  dw2 = np.outer(err, h)\n",
    "  EH = np.dot(err, w2.T)\n",
    "  dw1 = np.outer(EH, np.array(word[0]).T)\n",
    "\n",
    "  return dw1.T, dw2.T"
   ]
  },
  {
   "cell_type": "code",
   "execution_count": 11,
   "metadata": {},
   "outputs": [],
   "source": [
    "def learning(w1, w2, dw1, dw2, lr):\n",
    "  w1 = np.subtract(w1, np.multiply(lr, dw1))\n",
    "  w2 = np.subtract(w2, np.multiply(lr, dw2))\n",
    "\n",
    "  return w1, w2"
   ]
  },
  {
   "cell_type": "code",
   "execution_count": 27,
   "metadata": {},
   "outputs": [],
   "source": [
    "def train(words, vocab, lr, epochs, dim):\n",
    "\n",
    "  w1 = np.random.uniform(-1, 1, (len(vocab), dim)) * 0.01\n",
    "  w2 = np.random.uniform(-1, 1, (dim, len(vocab))) * 0.01\n",
    "\n",
    "  history = {}\n",
    "  for e in range(epochs):\n",
    "\n",
    "    l = 0 # total loss\n",
    "\n",
    "    for word in words:\n",
    "      out, h, u = forward_pass(word[0], w1, w2)\n",
    "      dw1, dw2 = backprop(out, word, w1, w2, h)\n",
    "      w1, w2 = learning(w1, w2, dw1, dw2, lr)\n",
    "\n",
    "      l += loss(word[1], u)\n",
    "    \n",
    "    if e % 100 == 0:\n",
    "      history[e] = l\n",
    "      print(f\"{e}: loss: {l}\")\n",
    "  \n",
    "  return w1, w2, history"
   ]
  },
  {
   "cell_type": "code",
   "execution_count": 28,
   "metadata": {},
   "outputs": [],
   "source": [
    "def predict(word, w1, w2, matrix, words, indices):\n",
    "  word = word.lower()\n",
    "  out, _, _ = forward_pass(matrix[words[word]][0], w1, w2)\n",
    "\n",
    "  most_likely_idxs = np.array(out).argsort()[-4:][::-1]\n",
    "  return [indices[w] for w in most_likely_idxs]"
   ]
  },
  {
   "cell_type": "code",
   "execution_count": 29,
   "metadata": {},
   "outputs": [
    {
     "name": "stdout",
     "output_type": "stream",
     "text": [
      "0: loss: 4104.390833663494\n",
      "100: loss: 3469.0620749490417\n",
      "200: loss: 2740.3726916360097\n",
      "300: loss: 2539.25491555108\n",
      "400: loss: 2452.534306738725\n",
      "500: loss: 2401.400822439564\n",
      "600: loss: 2368.6848310041455\n",
      "700: loss: 2344.9070760687705\n",
      "800: loss: 2326.5484476909282\n",
      "900: loss: 2311.3199013888698\n"
     ]
    }
   ],
   "source": [
    "text = \"Examination is a crucial way to assess students' academic performance, either through the objective or subjective pattern. The objective multiple choice questions can be easily evaluated by the pre-defined correct answers. However, the subjective questions allow student to write the descriptive answers from which the evalutor can know how much knowledge the students have gained and assign marks based on their judgement. In general, subjective answers are much longer than the objective questions and carry much more context. So that evaluting subjective answers manually is very tedious and time-consuming for evaluators. In addition, the marks assigned to the same subjective questions can be varied from evaluator to evaluator, depending on their ways of evaluating, moods at the evaluating moment, and even their personal relationship with students. Therefore automated evaluation for subjective answers with the consistent process becomes necessary, not only the human efforts applied in this repetitive task can be saved and spent on other more meaningful education endeavors, but the evaluation results will be fair and plausible for students. For universities and colleges, due to the recent Covid-19 pandemic, most of them shift the examinations to the online mode. Therefore, developing a subjective answer evaluation model dovetails with the actual needs of the school and has huge application value.\"\n",
    "\n",
    "tokens = tokenize(text)\n",
    "idxs, words = mapping(tokens)\n",
    "mat = one_hot_encoding(tokens, words, window_size=2)\n",
    "\n",
    "w1, w2, history = train(mat, words, lr=0.01, epochs=1000, dim=5)"
   ]
  },
  {
   "cell_type": "code",
   "execution_count": 30,
   "metadata": {},
   "outputs": [
    {
     "data": {
      "text/plain": [
       "Text(0, 0.5, 'Loss')"
      ]
     },
     "execution_count": 30,
     "metadata": {},
     "output_type": "execute_result"
    },
    {
     "data": {
      "image/png": "[encoded data removed]",
      "text/plain": [
       "<Figure size 936x576 with 1 Axes>"
      ]
     },
     "metadata": {
      "needs_background": "light"
     },
     "output_type": "display_data"
    }
   ],
   "source": [
    "plt.figure(figsize=(13, 8))\n",
    "plt.plot(list(history.keys()), list(history.values()), color='red')\n",
    "plt.xlabel('Numer of epochs')\n",
    "plt.ylabel('Loss')"
   ]
  },
  {
   "cell_type": "code",
   "execution_count": 32,
   "metadata": {},
   "outputs": [
    {
     "data": {
      "text/plain": [
       "['subjective', 'answers', 'the', 'is']"
      ]
     },
     "execution_count": 32,
     "metadata": {},
     "output_type": "execute_result"
    }
   ],
   "source": [
    "predict('subjective', w1, w2, mat, words, idxs)"
   ]
  },
  {
   "cell_type": "code",
   "execution_count": null,
   "metadata": {},
   "outputs": [],
   "source": []
  }
 ],
 "metadata": {
  "interpreter": {
   "hash": "b05ccce202e97ea170533ef02d00dca16ad94694ffea7539d6bdc21bb0bbc073"
  },
  "kernelspec": {
   "display_name": "Python 3.9.8 64-bit",
   "language": "python",
   "name": "python3"
  },
  "language_info": {
   "codemirror_mode": {
    "name": "ipython",
    "version": 3
   },
   "file_extension": ".py",
   "mimetype": "text/x-python",
   "name": "python",
   "nbconvert_exporter": "python",
   "pygments_lexer": "ipython3",
   "version": "3.9.8"
  },
  "orig_nbformat": 4
 },
 "nbformat": 4,
 "nbformat_minor": 2
}
